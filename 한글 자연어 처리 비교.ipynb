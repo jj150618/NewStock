{
 "cells": [
  {
   "cell_type": "code",
   "execution_count": 18,
   "id": "918b1649",
   "metadata": {},
   "outputs": [],
   "source": [
    "import time\n",
    "import pickle\n",
    "import re\n",
    "import timeit\n",
    "import pandas as pd\n",
    "\n",
    "from konlpy.tag import Kkma, Komoran, Okt\n",
    "from eunjeon import Mecab\n",
    "\n",
    "with open('word_dict.pkl','rb') as f:\n",
    "    stopwords = pickle.load(f)\n",
    "    \n",
    "company = pd.read_csv('../raw/19년 1월 2일 기준(코스피).csv',encoding='utf-8')\n",
    "company_list = company.iloc[:100,]['종목명'][0:100]# 시총 상위 100개 기업 리스트\n",
    "total_df = pd.DataFrame(columns=['Company','Day','Main','Head'])\n",
    "\n",
    "list_del= ['기사','기자','신문','네이버','뉴스','연합뉴스','하이닉스','텔레콤','사진','데일리','가운데','구독',\\\n",
    "            '이날','이후','지난해','최근','삼성'] + company_list.to_list()\n",
    "stopwords += list_del \n",
    "\n",
    "nouns_processors= [('mecab', Mecab()),('Kkma', Kkma()), ('Komoran', Komoran()), ('Okt', Okt())]"
   ]
  },
  {
   "cell_type": "code",
   "execution_count": 19,
   "id": "51cb999e",
   "metadata": {},
   "outputs": [
    {
     "name": "stdout",
     "output_type": "stream",
     "text": [
      "mecab의 삼성증권 Main 처리 시간 : 0.997352초\n",
      "mecab의 삼성증권 Head 처리 시간 : 0.251936초\n",
      "Kkma의 삼성증권 Main 처리 시간 : 76.845870초\n",
      "Kkma의 삼성증권 Head 처리 시간 : 76.187692초\n",
      "Komoran의 삼성증권 Main 처리 시간 : 106.100810초\n",
      "Komoran의 삼성증권 Head 처리 시간 : 107.954053초\n",
      "Okt의 삼성증권 Main 처리 시간 : 5.584756초\n",
      "Okt의 삼성증권 Head 처리 시간 : 5.581646초\n"
     ]
    }
   ],
   "source": [
    "for name, nouns_processor in nouns_processors:\n",
    "    start_time = timeit.default_timer()\n",
    "\n",
    "    df = pd.read_csv(\"../raw/새로 만든 전처리/삼성증권_전처리.csv\",encoding='utf-8')\n",
    "    df.dropna(axis=0,inplace=True)\n",
    "    df['Day']=df['Day'].str[:10]\n",
    "    d = df.groupby(['Day'])['Head_after'].apply(' '.join).reset_index()\n",
    "    e = df.groupby(['Day'])['Main_after'].apply(' '.join).reset_index()\n",
    "    f = pd.merge(e,d,on='Day')\n",
    "    temp_pd = pd.DataFrame()    \n",
    "    a = f['Main_after'][0:1]\n",
    "    temp_list_main = []\n",
    "    for i, news in enumerate(a):\n",
    "        b = nouns_processor.nouns('%s' %news)\n",
    "        clean_words = []\n",
    "        for word in b:\n",
    "            if len(word) < 2:\n",
    "                continue\n",
    "            if word not in stopwords:\n",
    "                clean_words.append(word)\n",
    "        c = ' '.join(clean_words)\n",
    "        temp_list_main.append(c)\n",
    "    terminate_time = timeit.default_timer()\n",
    "    print(\"%s의 삼성증권 Main 처리 시간 : %f초\" % (name,terminate_time - start_time))\n",
    "    \n",
    "    start_time = timeit.default_timer()  \n",
    "    aa = f['Head_after'][0:1]\n",
    "    temp_list_head = []\n",
    "    for i, news in enumerate(a):\n",
    "        b = nouns_processor.nouns('%s' %news)\n",
    "        clean_words = []\n",
    "        for word in b:\n",
    "            if len(word) < 2:\n",
    "                continue\n",
    "            if word not in stopwords:\n",
    "                clean_words.append(word)\n",
    "        c = ' '.join(clean_words)\n",
    "        temp_list_head.append(c)\n",
    "    terminate_time = timeit.default_timer()\n",
    "    print(\"%s의 삼성증권 Head 처리 시간 : %f초\" % (name,terminate_time - start_time))"
   ]
  },
  {
   "cell_type": "code",
   "execution_count": 59,
   "id": "d4149afb",
   "metadata": {},
   "outputs": [
    {
     "data": {
      "text/html": [
       "<div>\n",
       "<style scoped>\n",
       "    .dataframe tbody tr th:only-of-type {\n",
       "        vertical-align: middle;\n",
       "    }\n",
       "\n",
       "    .dataframe tbody tr th {\n",
       "        vertical-align: top;\n",
       "    }\n",
       "\n",
       "    .dataframe thead th {\n",
       "        text-align: right;\n",
       "    }\n",
       "</style>\n",
       "<table border=\"1\" class=\"dataframe\">\n",
       "  <thead>\n",
       "    <tr style=\"text-align: right;\">\n",
       "      <th></th>\n",
       "      <th>Main</th>\n",
       "      <th>Head</th>\n",
       "    </tr>\n",
       "  </thead>\n",
       "  <tbody>\n",
       "    <tr>\n",
       "      <th>Mecab</th>\n",
       "      <td>0.997352</td>\n",
       "      <td>0.251936</td>\n",
       "    </tr>\n",
       "    <tr>\n",
       "      <th>Kkma</th>\n",
       "      <td>76.845870</td>\n",
       "      <td>76.187692</td>\n",
       "    </tr>\n",
       "    <tr>\n",
       "      <th>Komoran</th>\n",
       "      <td>106.100810</td>\n",
       "      <td>107.954053</td>\n",
       "    </tr>\n",
       "    <tr>\n",
       "      <th>Okt</th>\n",
       "      <td>5.584756</td>\n",
       "      <td>5.581646</td>\n",
       "    </tr>\n",
       "  </tbody>\n",
       "</table>\n",
       "</div>"
      ],
      "text/plain": [
       "               Main        Head\n",
       "Mecab      0.997352    0.251936\n",
       "Kkma      76.845870   76.187692\n",
       "Komoran  106.100810  107.954053\n",
       "Okt        5.584756    5.581646"
      ]
     },
     "execution_count": 59,
     "metadata": {},
     "output_type": "execute_result"
    }
   ],
   "source": [
    "index_name = ['Mecab','Kkma','Komoran','Okt']\n",
    "df_graph = pd.DataFrame({\"Main\":[0.997352,76.845870,106.1008102,5.584756], \"Head\":[0.251936,76.187692,107.954053,5.581646]},index=index_name)\n",
    "#df_graph[\"Main\"] = np.log1p(df_graph[\"Main\"])\n",
    "#df_graph[\"Head\"] = np.log1p(df_graph[\"Head\"])\n",
    "df_graph"
   ]
  },
  {
   "cell_type": "code",
   "execution_count": 58,
   "id": "f01a72a3",
   "metadata": {},
   "outputs": [
    {
     "data": {
      "image/png": "[encoded data removed]",
      "text/plain": [
       "<Figure size 720x576 with 1 Axes>"
      ]
     },
     "metadata": {
      "needs_background": "light"
     },
     "output_type": "display_data"
    }
   ],
   "source": [
    "import matplotlib as mp\n",
    "import matplotlib.pyplot as plt\n",
    "import seaborn as sns\n",
    "import numpy as np\n",
    "\n",
    "fm = mp.font_manager.FontManager()\n",
    "plt.rcParams['font.family'] = 'Malgun Gothic'\n",
    "\n",
    "# 1. 기본 스타일 설정\n",
    "#plt.style.use('default')\n",
    "plt.rcParams['figure.figsize'] = (10, 8)\n",
    "plt.rcParams['font.size'] = 15\n",
    "# 3. 그래프 그리기\n",
    "\n",
    "index = np.arange(4)/2\n",
    "\n",
    "label=['Mecab','Kkma','Komoran','Okt']\n",
    "\n",
    "ax = plt.subplot()\n",
    "p1 =ax.barh(index+0.1,df_graph[\"Main\"],height=0.2,color='deeppink', label='본문', alpha=0.3)\n",
    "p2 =ax.barh(index-0.1,df_graph[\"Head\"], height=0.2,  color='pink', label='제목', alpha=0.3)\n",
    "\n",
    "plt.xlabel('log(시간)', fontsize=18)\n",
    "\n",
    "\n",
    "plt.legend((p1[0], p2[0]), ('본문', '제목'),loc='upper center', ncol=1, bbox_to_anchor=(0.83, 0.9), fontsize=15)\n",
    "\n",
    "\n",
    "plt.yticks(index, label,fontsize=12)\n",
    "\n",
    "plt.show()"
   ]
  },
  {
   "cell_type": "code",
   "execution_count": 60,
   "id": "8a1efd1c",
   "metadata": {},
   "outputs": [
    {
     "data": {
      "text/plain": [
       "{'total': 68650217472,\n",
       " 'available': 56716427264,\n",
       " 'percent': 17.4,\n",
       " 'used': 11933790208,\n",
       " 'free': 56716427264}"
      ]
     },
     "execution_count": 60,
     "metadata": {},
     "output_type": "execute_result"
    }
   ],
   "source": [
    "#!/usr/bin/env python\n",
    "import psutil\n",
    "# gives a single float value\n",
    "psutil.cpu_percent()\n",
    "# gives an object with many fields\n",
    "psutil.virtual_memory()\n",
    "# you can convert that object to a dictionary \n",
    "dict(psutil.virtual_memory()._asdict())"
   ]
  },
  {
   "cell_type": "code",
   "execution_count": null,
   "id": "dc734de6",
   "metadata": {},
   "outputs": [],
   "source": []
  }
 ],
 "metadata": {
  "kernelspec": {
   "display_name": "Python 3",
   "language": "python",
   "name": "python3"
  },
  "language_info": {
   "codemirror_mode": {
    "name": "ipython",
    "version": 3
   },
   "file_extension": ".py",
   "mimetype": "text/x-python",
   "name": "python",
   "nbconvert_exporter": "python",
   "pygments_lexer": "ipython3",
   "version": "3.8.8"
  }
 },
 "nbformat": 4,
 "nbformat_minor": 5
}
